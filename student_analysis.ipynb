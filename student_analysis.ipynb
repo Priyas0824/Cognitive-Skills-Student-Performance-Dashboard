{
  "nbformat": 4,
  "nbformat_minor": 0,
  "metadata": {
    "colab": {
      "provenance": []
    },
    "kernelspec": {
      "name": "python3",
      "display_name": "Python 3"
    },
    "language_info": {
      "name": "python"
    }
  },
  "cells": [
    {
      "cell_type": "code",
      "execution_count": null,
      "metadata": {
        "id": "s8z5LMzhaH7u"
      },
      "outputs": [],
      "source": [
        "import pandas as pd\n",
        "import numpy as np\n",
        "\n",
        "np.random.seed(42)\n",
        "num_students = 200\n",
        "\n",
        "student_id = ['S' + str(i).zfill(3) for i in range(1, num_students + 1)]\n",
        "name = ['Student_' + str(i) for i in range(1, num_students + 1)]\n",
        "class_name = np.random.choice(['Class A', 'Class B', 'Class C'], num_students)\n",
        "comprehension = np.random.uniform(0, 100, num_students)\n",
        "attention = np.random.uniform(0, 100, num_students)\n",
        "focus = np.random.uniform(0, 100, num_students)\n",
        "retention = np.random.uniform(0, 100, num_students)\n",
        "engagement_time = np.random.uniform(10, 120, num_students)\n",
        "\n",
        "assessment_score = (0.25 * comprehension + 0.20 * attention + 0.20 * focus + 0.20 * retention + 0.15 * (engagement_time / 120 * 100))\n",
        "assessment_score += np.random.normal(0, 5, num_students)\n",
        "assessment_score = np.clip(assessment_score, 0, 100)\n",
        "\n",
        "student_df = pd.DataFrame({\n",
        "    'student_id': student_id,\n",
        "    'name': name,\n",
        "    'class': class_name,\n",
        "    'comprehension': comprehension,\n",
        "    'attention': attention,\n",
        "    'focus': focus,\n",
        "    'retention': retention,\n",
        "    'engagement_time': engagement_time,\n",
        "    'assessment_score': assessment_score\n",
        "})\n"
      ]
    },
    {
      "cell_type": "code",
      "source": [
        "eda_summary = student_df.describe().T[['mean', '50%', 'std']].rename(columns={'50%': 'median'})\n",
        "print(eda_summary)\n",
        "\n",
        "corr_matrix = student_df[['comprehension', 'attention', 'focus', 'retention', 'engagement_time', 'assessment_score']].corr()\n",
        "print(corr_matrix)"
      ],
      "metadata": {
        "colab": {
          "base_uri": "https://localhost:8080/"
        },
        "id": "H5fDhngQaPxO",
        "outputId": "0090fef4-f859-44bd-b829-7d2420dae3d2"
      },
      "execution_count": null,
      "outputs": [
        {
          "output_type": "stream",
          "name": "stdout",
          "text": [
            "                       mean     median        std\n",
            "comprehension     49.648728  47.012257  28.977235\n",
            "attention         51.389657  53.134880  28.612934\n",
            "focus             51.187715  53.518615  28.342923\n",
            "retention         52.260637  53.476281  26.828951\n",
            "engagement_time   65.435189  66.842956  33.108595\n",
            "assessment_score  52.123636  53.059218  14.018128\n",
            "                  comprehension  attention     focus  retention  \\\n",
            "comprehension          1.000000  -0.035162  0.028036   0.031712   \n",
            "attention             -0.035162   1.000000  0.032159   0.071050   \n",
            "focus                  0.028036   0.032159  1.000000   0.022036   \n",
            "retention              0.031712   0.071050  0.022036   1.000000   \n",
            "engagement_time       -0.022755  -0.002121 -0.057836  -0.012944   \n",
            "assessment_score       0.515674   0.393194  0.472849   0.431505   \n",
            "\n",
            "                  engagement_time  assessment_score  \n",
            "comprehension           -0.022755          0.515674  \n",
            "attention               -0.002121          0.393194  \n",
            "focus                   -0.057836          0.472849  \n",
            "retention               -0.012944          0.431505  \n",
            "engagement_time          1.000000          0.254938  \n",
            "assessment_score         0.254938          1.000000  \n"
          ]
        }
      ]
    },
    {
      "cell_type": "code",
      "source": [
        "from sklearn.model_selection import train_test_split\n",
        "from sklearn.linear_model import LinearRegression\n",
        "from sklearn.metrics import mean_squared_error, r2_score\n",
        "\n",
        "X = student_df[['comprehension', 'attention', 'focus', 'retention', 'engagement_time']]\n",
        "y = student_df['assessment_score']\n",
        "\n",
        "X_train, X_test, y_train, y_test = train_test_split(X, y, test_size=0.2, random_state=42)\n",
        "\n",
        "model = LinearRegression()\n",
        "model.fit(X_train, y_train)\n",
        "\n",
        "y_pred = model.predict(X_test)\n",
        "\n",
        "mse = mean_squared_error(y_test, y_pred)\n",
        "r2 = r2_score(y_test, y_pred)\n",
        "\n",
        "print(f'MSE: {mse}, R2: {r2}')"
      ],
      "metadata": {
        "colab": {
          "base_uri": "https://localhost:8080/"
        },
        "id": "EXxIM7ekaVBR",
        "outputId": "da83a1c4-74e2-4b2c-a4b6-e718d943ce97"
      },
      "execution_count": null,
      "outputs": [
        {
          "output_type": "stream",
          "name": "stdout",
          "text": [
            "MSE: 32.135637706917535, R2: 0.8754058147338253\n"
          ]
        }
      ]
    },
    {
      "cell_type": "code",
      "source": [
        "from sklearn.cluster import KMeans\n",
        "from sklearn.preprocessing import StandardScaler\n",
        "from sklearn.metrics import silhouette_score\n",
        "\n",
        "scaler = StandardScaler()\n",
        "X_scaled = scaler.fit_transform(X)\n",
        "\n",
        "sil_scores = []\n",
        "for k in range(2, 7):\n",
        "    kmeans = KMeans(n_clusters=k, random_state=42)\n",
        "    labels = kmeans.fit_predict(X_scaled)\n",
        "    sil_scores.append(silhouette_score(X_scaled, labels))\n",
        "\n",
        "print(sil_scores)\n",
        "# Choose k with highest silhouette score, e.g., k=4\n",
        "optimal_k = sil_scores.index(max(sil_scores)) + 2\n",
        "kmeans = KMeans(n_clusters=optimal_k, random_state=42)\n",
        "student_df['learning_persona'] = kmeans.fit_predict(X_scaled)"
      ],
      "metadata": {
        "colab": {
          "base_uri": "https://localhost:8080/"
        },
        "id": "UvUySUe9abis",
        "outputId": "6a7a1bb5-ee34-446f-f367-dc9affc0546b"
      },
      "execution_count": null,
      "outputs": [
        {
          "output_type": "stream",
          "name": "stdout",
          "text": [
            "[np.float64(0.15006800306637522), np.float64(0.13539673885498812), np.float64(0.13672530660798277), np.float64(0.16549741704042759), np.float64(0.1618385946242514)]\n"
          ]
        }
      ]
    },
    {
      "cell_type": "code",
      "source": [
        "student_df.to_json('students.json', orient='records')\n"
      ],
      "metadata": {
        "id": "dGfOGyWsbqNM"
      },
      "execution_count": null,
      "outputs": []
    },
    {
      "cell_type": "code",
      "source": [
        "# Save JSON in the current folder first\n",
        "student_df.to_json(\"students.json\", orient=\"records\", indent=2)\n",
        "print(\"JSON saved as students.json\")\n",
        "\n"
      ],
      "metadata": {
        "colab": {
          "base_uri": "https://localhost:8080/"
        },
        "id": "ptnizzhFvm6Q",
        "outputId": "5ffc9494-2fac-4dd3-ba26-927adc2bd080"
      },
      "execution_count": null,
      "outputs": [
        {
          "output_type": "stream",
          "name": "stdout",
          "text": [
            "JSON saved as students.json\n"
          ]
        }
      ]
    },
    {
      "cell_type": "code",
      "source": [
        "import json\n",
        "\n",
        "# Try reading back the file\n",
        "with open(\"students.json\", \"r\") as f:\n",
        "    data = json.load(f)\n",
        "\n",
        "print(f\"Loaded {len(data)} students\")\n",
        "print(\"First record example:\\n\", data[0])\n"
      ],
      "metadata": {
        "colab": {
          "base_uri": "https://localhost:8080/"
        },
        "id": "cft3j7ZkvpKz",
        "outputId": "78202a0f-4c26-4f17-cee7-7bf1f9136ed1"
      },
      "execution_count": null,
      "outputs": [
        {
          "output_type": "stream",
          "name": "stdout",
          "text": [
            "Loaded 200 students\n",
            "First record example:\n",
            " {'student_id': 'S001', 'name': 'Student_1', 'class': 'Class C', 'comprehension': 40.3836171058, 'attention': 17.5330269889, 'focus': 24.108483233, 'retention': 45.1948601299, 'engagement_time': 68.2627846521, 'assessment_score': 36.212384902, 'learning_persona': 0}\n"
          ]
        }
      ]
    },
    {
      "cell_type": "code",
      "source": [
        "import os\n",
        "\n",
        "os.makedirs(\"../nextjs-app/public/data\", exist_ok=True)\n",
        "student_df.to_json(\"../nextjs-app/public/data/students.json\", orient=\"records\", indent=2)\n"
      ],
      "metadata": {
        "id": "dBt_AFWbwE0-"
      },
      "execution_count": null,
      "outputs": []
    }
  ]
}